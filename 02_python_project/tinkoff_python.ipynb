{
 "cells": [
  {
   "cell_type": "markdown",
   "metadata": {},
   "source": [
    "<a href=\"https://colab.research.google.com/github/DmitryKostin/tinkoff-industry-data-analysis/blob/main/02_python_project/tinkoff_python.ipynb\" target=\"_parent\"><img src=\"https://colab.research.google.com/assets/colab-badge.svg\" alt=\"Open In Colab\"/></a>"
   ]
  },
  {
   "cell_type": "markdown",
   "metadata": {
    "id": "UJAmqi9GNBlx"
   },
   "source": [
    "# Генерация данных в Python c помощью модуля random"
   ]
  },
  {
   "cell_type": "markdown",
   "metadata": {
    "id": "5NsVw4uKMu7H"
   },
   "source": [
    "Для выполнения задания потребуется самому сгенерировать данные с помощью модуля random (все пункты выполняются с помощью нее).\n",
    "\n",
    "Что необходимо, для создания будущей таблицы:\n",
    "\n",
    "0) Для генерации данных в random необходимо установить seed = \"АДВИ_2023\", длина каждого списка N = 1000;\n",
    "\n",
    "1) index колонка: создать список из N последовательных целых элементов от 1 до 1000 включительно, далее, с помощью специальной функции random перемешать его;\n",
    "\n",
    "2) groups колонка: создать список из N элементов, состоящий из значений из списка [\"группа_1\", \"группа_2\", \"группа_3\", \"группа_4\", \"группа_5\"], необходимо использовать функцию из random которая возвращает список элементов длины k, выбранных из последовательности population с перестановкой элементов;\n",
    "\n",
    "3) uniform колонка: создать список из N элементов, состоящий из целых значение из равномерного распределения [50, 100] ;\n",
    "\n",
    "4) **gauss_1, gauss_2, gauss_3** колонки: Создать 3 списка из N элементов каждый, заполненные значениями из нормальных распределений с параметрами:\n",
    "\n",
    "$\\mu$ = 0, $\\sigma^2$ = 1 -> третья колонка gauss_1;\n",
    "\n",
    "$\\mu$ = 0, $\\sigma^2$ = 144 -> четвертая колонка gauss_2;\n",
    "\n",
    "$\\mu$ = 50, $\\sigma^2$ = 81 -> пятая колонка gauss_3;\n",
    "\n",
    "5) Создать pandas DataFrame, где (1) будет индексом, (2)-(4) колонки, названия колонок [\"groups\", \"uniform\", \"gauss_1\", \"gauss_2\", \"gauss_3\"] соответственно, не забывая проверить, что типы колонок должны соответствовать заявленным типам данных;\n",
    "\n",
    "6) Для колонок gauss_1 и gauss_2 заменить значения на None:\n",
    "\n",
    "- Для gauss_1, если индекс у значение делится на 121 без остатка;\n",
    "- Для gauss_2, если дробная часть больше 0.95;\n",
    "\n",
    "7) Теперь, для пропущенных значений gauss_1 и gauss_2:\n",
    "\n",
    "- Для gauss_2 None заменить на среднее по колонке;\n",
    "- Удалить строчки из таблицы, где gauss_1 == None.\n",
    "\n",
    "\n",
    "\n",
    "\n",
    "Первая строка из таблицы для сверки:\n",
    "\n",
    "|index|groups|uniform|gauss_1|gauss_2| gauss_3|\n",
    "\n",
    "|476|группа_1|95|3.010291|2.156346|57.455853|"
   ]
  },
  {
   "cell_type": "code",
   "execution_count": 1,
   "metadata": {
    "id": "EH0a7DwrZNOs"
   },
   "outputs": [],
   "source": [
    "import pandas as pd\n",
    "import numpy as np\n",
    "import random"
   ]
  },
  {
   "cell_type": "code",
   "execution_count": 2,
   "metadata": {
    "id": "C8aH1dP4ZO2E"
   },
   "outputs": [],
   "source": [
    "random.seed(a='АДВИ_2023')"
   ]
  },
  {
   "cell_type": "markdown",
   "metadata": {
    "id": "wGUi94nZNlBg"
   },
   "source": [
    "## Задание 1"
   ]
  },
  {
   "cell_type": "markdown",
   "metadata": {
    "id": "b-KD3FQiNYFh"
   },
   "source": [
    " index колонка: создать список из N последовательных целых элементов от 1 до 1000 включительно, далее, с помощью специальной функции random перемешать его."
   ]
  },
  {
   "cell_type": "code",
   "execution_count": 3,
   "metadata": {
    "id": "q8H1f9ZJZqU0"
   },
   "outputs": [],
   "source": [
    "index = list(range(1, 1001))"
   ]
  },
  {
   "cell_type": "code",
   "execution_count": 4,
   "metadata": {
    "id": "rh8CIuzvaDqE"
   },
   "outputs": [],
   "source": [
    "random.shuffle(index)"
   ]
  },
  {
   "cell_type": "code",
   "execution_count": 5,
   "metadata": {
    "colab": {
     "base_uri": "https://localhost:8080/"
    },
    "id": "Y5mlKC5PaDF8",
    "outputId": "b0474eba-970a-4a74-922d-986800835811"
   },
   "outputs": [
    {
     "data": {
      "text/plain": [
       "476"
      ]
     },
     "execution_count": 5,
     "metadata": {},
     "output_type": "execute_result"
    }
   ],
   "source": [
    "index[0]"
   ]
  },
  {
   "cell_type": "markdown",
   "metadata": {
    "id": "_A0bSH5YNoUx"
   },
   "source": [
    "## Задание 2"
   ]
  },
  {
   "cell_type": "markdown",
   "metadata": {
    "id": "Tyh6ek_yNgSS"
   },
   "source": [
    "groups колонка: создать список из N элементов, состоящий из значений из списка [\"группа_1\", \"группа_2\", \"группа_3\", \"группа_4\", \"группа_5\"], необходимо использовать функцию из random которая возвращает список элементов длины k, выбранных из последовательности population с перестановкой элементов."
   ]
  },
  {
   "cell_type": "code",
   "execution_count": 6,
   "metadata": {
    "id": "zwKqP27Ba9gU"
   },
   "outputs": [],
   "source": [
    "population = [\"группа_1\", \"группа_2\", \"группа_3\", \"группа_4\", \"группа_5\"]"
   ]
  },
  {
   "cell_type": "code",
   "execution_count": 7,
   "metadata": {
    "id": "7FpWiAWKaWhn"
   },
   "outputs": [],
   "source": [
    "groups = random.choices(population, k=1000)"
   ]
  },
  {
   "cell_type": "code",
   "execution_count": 8,
   "metadata": {
    "colab": {
     "base_uri": "https://localhost:8080/",
     "height": 35
    },
    "id": "f3Rb1y-Zh1-H",
    "outputId": "79f9ee4b-0e02-4ec0-e29c-c86478e62c38"
   },
   "outputs": [
    {
     "data": {
      "text/plain": [
       "'группа_1'"
      ]
     },
     "execution_count": 8,
     "metadata": {},
     "output_type": "execute_result"
    }
   ],
   "source": [
    "groups[0]"
   ]
  },
  {
   "cell_type": "markdown",
   "metadata": {
    "id": "W1dKDvgHN0Mq"
   },
   "source": [
    "## Задание 3"
   ]
  },
  {
   "cell_type": "markdown",
   "metadata": {
    "id": "7sav29fXNyzs"
   },
   "source": [
    "uniform колонка: создать список из N элементов, состоящий из целых значение из равномерного распределения [50, 100]."
   ]
  },
  {
   "cell_type": "code",
   "execution_count": 9,
   "metadata": {
    "id": "dC3iI0wZdx0v"
   },
   "outputs": [],
   "source": [
    "uniform = [random.randint(50, 100) for i in range(1000)]"
   ]
  },
  {
   "cell_type": "code",
   "execution_count": 10,
   "metadata": {
    "colab": {
     "base_uri": "https://localhost:8080/"
    },
    "id": "qaSV5hF4d3gd",
    "outputId": "7107a2ca-e6be-48e6-806c-f42116194b1c"
   },
   "outputs": [
    {
     "data": {
      "text/plain": [
       "95"
      ]
     },
     "execution_count": 10,
     "metadata": {},
     "output_type": "execute_result"
    }
   ],
   "source": [
    "uniform[0]"
   ]
  },
  {
   "cell_type": "markdown",
   "metadata": {
    "id": "q1iV6IsrOBy4"
   },
   "source": [
    "## Задание 4"
   ]
  },
  {
   "cell_type": "markdown",
   "metadata": {
    "id": "afqZQB6pOA5a"
   },
   "source": [
    "**gauss_1, gauss_2, gauss_3** колонки: Создать 3 списка из N элементов каждый, заполненные значениями из нормальных распределений с параметрами:\n",
    "\n",
    "$\\mu$ = 0, $\\sigma^2$ = 1 -> третья колонка gauss_1;\n",
    "\n",
    "$\\mu$ = 0, $\\sigma^2$ = 144 -> четвертая колонка gauss_2;\n",
    "\n",
    "$\\mu$ = 50, $\\sigma^2$ = 81 -> пятая колонка gauss_3."
   ]
  },
  {
   "cell_type": "code",
   "execution_count": 11,
   "metadata": {
    "id": "HWhlz-Mxd4n8"
   },
   "outputs": [],
   "source": [
    "#random.gauss(mu, sigma)"
   ]
  },
  {
   "cell_type": "code",
   "execution_count": 12,
   "metadata": {
    "id": "7HFwJeRNgTCV"
   },
   "outputs": [],
   "source": [
    "gauss_1 = [random.gauss(0, 1) for i in range(1000)]"
   ]
  },
  {
   "cell_type": "code",
   "execution_count": 13,
   "metadata": {
    "id": "liM9V7hBgpM-"
   },
   "outputs": [],
   "source": [
    "gauss_2 = [random.gauss(0, (144) ** 0.5) for j in range(1000)]"
   ]
  },
  {
   "cell_type": "code",
   "execution_count": 14,
   "metadata": {
    "id": "G7z_2ocOhWQO"
   },
   "outputs": [],
   "source": [
    "gauss_3 = [random.gauss(50, (81) ** 0.5) for k in range(1000)]"
   ]
  },
  {
   "cell_type": "code",
   "execution_count": 15,
   "metadata": {
    "colab": {
     "base_uri": "https://localhost:8080/"
    },
    "id": "2uEXJIX-hdG9",
    "outputId": "6f48b2a1-2f0d-476f-878f-ddf3a34c902c"
   },
   "outputs": [
    {
     "data": {
      "text/plain": [
       "3.01029133931237"
      ]
     },
     "execution_count": 15,
     "metadata": {},
     "output_type": "execute_result"
    }
   ],
   "source": [
    "gauss_1[0]"
   ]
  },
  {
   "cell_type": "code",
   "execution_count": 16,
   "metadata": {
    "colab": {
     "base_uri": "https://localhost:8080/"
    },
    "id": "1PuaMIGOhjS2",
    "outputId": "c35840b3-3c17-4042-d5fc-81bf94804d43"
   },
   "outputs": [
    {
     "data": {
      "text/plain": [
       "2.156346051014784"
      ]
     },
     "execution_count": 16,
     "metadata": {},
     "output_type": "execute_result"
    }
   ],
   "source": [
    "gauss_2[0]"
   ]
  },
  {
   "cell_type": "code",
   "execution_count": 17,
   "metadata": {
    "colab": {
     "base_uri": "https://localhost:8080/"
    },
    "id": "vIWuQuCYhlQO",
    "outputId": "a1cfb7c1-d3c4-49f3-a54e-3f1ee29be231"
   },
   "outputs": [
    {
     "data": {
      "text/plain": [
       "57.45585127992099"
      ]
     },
     "execution_count": 17,
     "metadata": {},
     "output_type": "execute_result"
    }
   ],
   "source": [
    "gauss_3[0]"
   ]
  },
  {
   "cell_type": "markdown",
   "metadata": {
    "id": "n3zY1H8MPkzM"
   },
   "source": [
    "## Задание 5"
   ]
  },
  {
   "cell_type": "markdown",
   "metadata": {
    "id": "JXmWX2e4PjqW"
   },
   "source": [
    "Создать pandas DataFrame, где (1) будет индексом, (2)-(4) колонки, названия колонок [\"groups\", \"uniform\", \"gauss_1\", \"gauss_2\", \"gauss_3\"] соответственно, не забывая проверить, что типы колонок должны соответствовать заявленным типам данных."
   ]
  },
  {
   "cell_type": "code",
   "execution_count": 18,
   "metadata": {
    "id": "ctp8CI3tlu-_"
   },
   "outputs": [],
   "source": [
    "dct = {'index':index,\n",
    "       'groups':groups,\n",
    "       'uniform':uniform,\n",
    "       'gauss_1':gauss_1,\n",
    "       'gauss_2':gauss_2,\n",
    "       'gauss_3':gauss_3}"
   ]
  },
  {
   "cell_type": "code",
   "execution_count": 19,
   "metadata": {
    "id": "py5OisHPm4UH"
   },
   "outputs": [],
   "source": [
    "data = pd.DataFrame(dct).set_index('index')"
   ]
  },
  {
   "cell_type": "code",
   "execution_count": 20,
   "metadata": {
    "colab": {
     "base_uri": "https://localhost:8080/",
     "height": 455
    },
    "id": "GzZcHRh-lXZk",
    "outputId": "d0d92da4-29dc-4dec-c669-f44022259b21"
   },
   "outputs": [
    {
     "data": {
      "text/html": [
       "<div>\n",
       "<style scoped>\n",
       "    .dataframe tbody tr th:only-of-type {\n",
       "        vertical-align: middle;\n",
       "    }\n",
       "\n",
       "    .dataframe tbody tr th {\n",
       "        vertical-align: top;\n",
       "    }\n",
       "\n",
       "    .dataframe thead th {\n",
       "        text-align: right;\n",
       "    }\n",
       "</style>\n",
       "<table border=\"1\" class=\"dataframe\">\n",
       "  <thead>\n",
       "    <tr style=\"text-align: right;\">\n",
       "      <th></th>\n",
       "      <th>groups</th>\n",
       "      <th>uniform</th>\n",
       "      <th>gauss_1</th>\n",
       "      <th>gauss_2</th>\n",
       "      <th>gauss_3</th>\n",
       "    </tr>\n",
       "    <tr>\n",
       "      <th>index</th>\n",
       "      <th></th>\n",
       "      <th></th>\n",
       "      <th></th>\n",
       "      <th></th>\n",
       "      <th></th>\n",
       "    </tr>\n",
       "  </thead>\n",
       "  <tbody>\n",
       "    <tr>\n",
       "      <th>476</th>\n",
       "      <td>группа_1</td>\n",
       "      <td>95</td>\n",
       "      <td>3.010291</td>\n",
       "      <td>2.156346</td>\n",
       "      <td>57.455851</td>\n",
       "    </tr>\n",
       "    <tr>\n",
       "      <th>315</th>\n",
       "      <td>группа_5</td>\n",
       "      <td>77</td>\n",
       "      <td>0.190277</td>\n",
       "      <td>-9.934550</td>\n",
       "      <td>62.694177</td>\n",
       "    </tr>\n",
       "    <tr>\n",
       "      <th>490</th>\n",
       "      <td>группа_4</td>\n",
       "      <td>96</td>\n",
       "      <td>-0.282161</td>\n",
       "      <td>9.211071</td>\n",
       "      <td>54.688895</td>\n",
       "    </tr>\n",
       "    <tr>\n",
       "      <th>748</th>\n",
       "      <td>группа_3</td>\n",
       "      <td>56</td>\n",
       "      <td>1.127080</td>\n",
       "      <td>-12.391793</td>\n",
       "      <td>30.192353</td>\n",
       "    </tr>\n",
       "    <tr>\n",
       "      <th>471</th>\n",
       "      <td>группа_5</td>\n",
       "      <td>52</td>\n",
       "      <td>-1.238270</td>\n",
       "      <td>10.938748</td>\n",
       "      <td>52.682052</td>\n",
       "    </tr>\n",
       "    <tr>\n",
       "      <th>...</th>\n",
       "      <td>...</td>\n",
       "      <td>...</td>\n",
       "      <td>...</td>\n",
       "      <td>...</td>\n",
       "      <td>...</td>\n",
       "    </tr>\n",
       "    <tr>\n",
       "      <th>260</th>\n",
       "      <td>группа_4</td>\n",
       "      <td>57</td>\n",
       "      <td>-1.484164</td>\n",
       "      <td>-5.911598</td>\n",
       "      <td>49.330196</td>\n",
       "    </tr>\n",
       "    <tr>\n",
       "      <th>146</th>\n",
       "      <td>группа_4</td>\n",
       "      <td>78</td>\n",
       "      <td>-0.379041</td>\n",
       "      <td>-3.132954</td>\n",
       "      <td>60.329900</td>\n",
       "    </tr>\n",
       "    <tr>\n",
       "      <th>972</th>\n",
       "      <td>группа_1</td>\n",
       "      <td>52</td>\n",
       "      <td>-0.857206</td>\n",
       "      <td>0.835715</td>\n",
       "      <td>51.926114</td>\n",
       "    </tr>\n",
       "    <tr>\n",
       "      <th>161</th>\n",
       "      <td>группа_1</td>\n",
       "      <td>62</td>\n",
       "      <td>-0.195475</td>\n",
       "      <td>3.496498</td>\n",
       "      <td>66.310250</td>\n",
       "    </tr>\n",
       "    <tr>\n",
       "      <th>587</th>\n",
       "      <td>группа_5</td>\n",
       "      <td>60</td>\n",
       "      <td>0.093496</td>\n",
       "      <td>-9.164475</td>\n",
       "      <td>60.897843</td>\n",
       "    </tr>\n",
       "  </tbody>\n",
       "</table>\n",
       "<p>1000 rows × 5 columns</p>\n",
       "</div>"
      ],
      "text/plain": [
       "         groups  uniform   gauss_1    gauss_2    gauss_3\n",
       "index                                                   \n",
       "476    группа_1       95  3.010291   2.156346  57.455851\n",
       "315    группа_5       77  0.190277  -9.934550  62.694177\n",
       "490    группа_4       96 -0.282161   9.211071  54.688895\n",
       "748    группа_3       56  1.127080 -12.391793  30.192353\n",
       "471    группа_5       52 -1.238270  10.938748  52.682052\n",
       "...         ...      ...       ...        ...        ...\n",
       "260    группа_4       57 -1.484164  -5.911598  49.330196\n",
       "146    группа_4       78 -0.379041  -3.132954  60.329900\n",
       "972    группа_1       52 -0.857206   0.835715  51.926114\n",
       "161    группа_1       62 -0.195475   3.496498  66.310250\n",
       "587    группа_5       60  0.093496  -9.164475  60.897843\n",
       "\n",
       "[1000 rows x 5 columns]"
      ]
     },
     "execution_count": 20,
     "metadata": {},
     "output_type": "execute_result"
    }
   ],
   "source": [
    "data"
   ]
  },
  {
   "cell_type": "markdown",
   "metadata": {
    "id": "W56YdaAuPoub"
   },
   "source": [
    "## Задание 6"
   ]
  },
  {
   "cell_type": "markdown",
   "metadata": {
    "id": "dt2XGXxxoP9P"
   },
   "source": [
    "Для колонок gauss_1 и gauss_2 заменить значения на None:\n",
    "\n",
    "- Для gauss_1, если индекс у значение делится на 121 без остатка;\n",
    "- Для gauss_2, если дробная часть больше 0.95."
   ]
  },
  {
   "cell_type": "code",
   "execution_count": 21,
   "metadata": {
    "id": "tAJlsfr0C_ej"
   },
   "outputs": [],
   "source": [
    "target_indexes = list(data.query('gauss_2 > 0 & gauss_2 % 1 > 0.95').index)"
   ]
  },
  {
   "cell_type": "code",
   "execution_count": 22,
   "metadata": {
    "id": "bBYs_I3wxUiH"
   },
   "outputs": [],
   "source": [
    "#target_indexes = list(data.query('gauss_2 % 1 > 0.95').index)"
   ]
  },
  {
   "cell_type": "code",
   "execution_count": 23,
   "metadata": {
    "id": "tDFzDAS5oQh8"
   },
   "outputs": [],
   "source": [
    "data.loc[data.index % 121 == 0, 'gauss_1'] = None"
   ]
  },
  {
   "cell_type": "code",
   "execution_count": 24,
   "metadata": {
    "id": "zI34tQYvvB6g"
   },
   "outputs": [],
   "source": [
    "data.loc[target_indexes, 'gauss_2'] = None"
   ]
  },
  {
   "cell_type": "code",
   "execution_count": 25,
   "metadata": {
    "colab": {
     "base_uri": "https://localhost:8080/"
    },
    "id": "kYqeK2xoytDu",
    "outputId": "10487d8f-1e61-4435-a894-8b82c8022609"
   },
   "outputs": [
    {
     "data": {
      "text/plain": [
       "[737,\n",
       " 219,\n",
       " 684,\n",
       " 352,\n",
       " 548,\n",
       " 326,\n",
       " 874,\n",
       " 200,\n",
       " 253,\n",
       " 128,\n",
       " 343,\n",
       " 411,\n",
       " 643,\n",
       " 103,\n",
       " 118,\n",
       " 793,\n",
       " 761,\n",
       " 608,\n",
       " 356,\n",
       " 640,\n",
       " 285,\n",
       " 812,\n",
       " 48,\n",
       " 504,\n",
       " 361,\n",
       " 549,\n",
       " 252,\n",
       " 63]"
      ]
     },
     "execution_count": 25,
     "metadata": {},
     "output_type": "execute_result"
    }
   ],
   "source": [
    "target_indexes"
   ]
  },
  {
   "cell_type": "code",
   "execution_count": 26,
   "metadata": {
    "colab": {
     "base_uri": "https://localhost:8080/",
     "height": 959
    },
    "id": "q5V-ePYhy3bf",
    "outputId": "6d7de26a-39b0-4742-dce6-c86be48e354c"
   },
   "outputs": [
    {
     "data": {
      "text/html": [
       "<div>\n",
       "<style scoped>\n",
       "    .dataframe tbody tr th:only-of-type {\n",
       "        vertical-align: middle;\n",
       "    }\n",
       "\n",
       "    .dataframe tbody tr th {\n",
       "        vertical-align: top;\n",
       "    }\n",
       "\n",
       "    .dataframe thead th {\n",
       "        text-align: right;\n",
       "    }\n",
       "</style>\n",
       "<table border=\"1\" class=\"dataframe\">\n",
       "  <thead>\n",
       "    <tr style=\"text-align: right;\">\n",
       "      <th></th>\n",
       "      <th>groups</th>\n",
       "      <th>uniform</th>\n",
       "      <th>gauss_1</th>\n",
       "      <th>gauss_2</th>\n",
       "      <th>gauss_3</th>\n",
       "    </tr>\n",
       "    <tr>\n",
       "      <th>index</th>\n",
       "      <th></th>\n",
       "      <th></th>\n",
       "      <th></th>\n",
       "      <th></th>\n",
       "      <th></th>\n",
       "    </tr>\n",
       "  </thead>\n",
       "  <tbody>\n",
       "    <tr>\n",
       "      <th>737</th>\n",
       "      <td>группа_5</td>\n",
       "      <td>87</td>\n",
       "      <td>-0.010541</td>\n",
       "      <td>NaN</td>\n",
       "      <td>50.624601</td>\n",
       "    </tr>\n",
       "    <tr>\n",
       "      <th>219</th>\n",
       "      <td>группа_1</td>\n",
       "      <td>52</td>\n",
       "      <td>0.154961</td>\n",
       "      <td>NaN</td>\n",
       "      <td>50.096017</td>\n",
       "    </tr>\n",
       "    <tr>\n",
       "      <th>684</th>\n",
       "      <td>группа_2</td>\n",
       "      <td>60</td>\n",
       "      <td>-0.016561</td>\n",
       "      <td>NaN</td>\n",
       "      <td>51.411878</td>\n",
       "    </tr>\n",
       "    <tr>\n",
       "      <th>352</th>\n",
       "      <td>группа_2</td>\n",
       "      <td>74</td>\n",
       "      <td>0.355524</td>\n",
       "      <td>NaN</td>\n",
       "      <td>43.997174</td>\n",
       "    </tr>\n",
       "    <tr>\n",
       "      <th>548</th>\n",
       "      <td>группа_4</td>\n",
       "      <td>76</td>\n",
       "      <td>0.715426</td>\n",
       "      <td>NaN</td>\n",
       "      <td>66.549967</td>\n",
       "    </tr>\n",
       "    <tr>\n",
       "      <th>326</th>\n",
       "      <td>группа_3</td>\n",
       "      <td>90</td>\n",
       "      <td>0.987219</td>\n",
       "      <td>NaN</td>\n",
       "      <td>62.547125</td>\n",
       "    </tr>\n",
       "    <tr>\n",
       "      <th>874</th>\n",
       "      <td>группа_3</td>\n",
       "      <td>100</td>\n",
       "      <td>1.079882</td>\n",
       "      <td>NaN</td>\n",
       "      <td>44.286319</td>\n",
       "    </tr>\n",
       "    <tr>\n",
       "      <th>200</th>\n",
       "      <td>группа_3</td>\n",
       "      <td>73</td>\n",
       "      <td>-1.210269</td>\n",
       "      <td>NaN</td>\n",
       "      <td>40.997252</td>\n",
       "    </tr>\n",
       "    <tr>\n",
       "      <th>253</th>\n",
       "      <td>группа_4</td>\n",
       "      <td>64</td>\n",
       "      <td>-0.755386</td>\n",
       "      <td>NaN</td>\n",
       "      <td>51.621738</td>\n",
       "    </tr>\n",
       "    <tr>\n",
       "      <th>128</th>\n",
       "      <td>группа_2</td>\n",
       "      <td>68</td>\n",
       "      <td>1.555035</td>\n",
       "      <td>NaN</td>\n",
       "      <td>65.860999</td>\n",
       "    </tr>\n",
       "    <tr>\n",
       "      <th>343</th>\n",
       "      <td>группа_4</td>\n",
       "      <td>84</td>\n",
       "      <td>0.075371</td>\n",
       "      <td>NaN</td>\n",
       "      <td>31.577312</td>\n",
       "    </tr>\n",
       "    <tr>\n",
       "      <th>411</th>\n",
       "      <td>группа_2</td>\n",
       "      <td>58</td>\n",
       "      <td>0.989985</td>\n",
       "      <td>NaN</td>\n",
       "      <td>54.563815</td>\n",
       "    </tr>\n",
       "    <tr>\n",
       "      <th>643</th>\n",
       "      <td>группа_5</td>\n",
       "      <td>72</td>\n",
       "      <td>0.293549</td>\n",
       "      <td>NaN</td>\n",
       "      <td>40.853600</td>\n",
       "    </tr>\n",
       "    <tr>\n",
       "      <th>103</th>\n",
       "      <td>группа_2</td>\n",
       "      <td>100</td>\n",
       "      <td>0.337678</td>\n",
       "      <td>NaN</td>\n",
       "      <td>53.895349</td>\n",
       "    </tr>\n",
       "    <tr>\n",
       "      <th>118</th>\n",
       "      <td>группа_3</td>\n",
       "      <td>95</td>\n",
       "      <td>-0.984044</td>\n",
       "      <td>NaN</td>\n",
       "      <td>50.936953</td>\n",
       "    </tr>\n",
       "    <tr>\n",
       "      <th>793</th>\n",
       "      <td>группа_5</td>\n",
       "      <td>54</td>\n",
       "      <td>0.092742</td>\n",
       "      <td>NaN</td>\n",
       "      <td>56.039274</td>\n",
       "    </tr>\n",
       "    <tr>\n",
       "      <th>761</th>\n",
       "      <td>группа_4</td>\n",
       "      <td>60</td>\n",
       "      <td>0.373209</td>\n",
       "      <td>NaN</td>\n",
       "      <td>36.985919</td>\n",
       "    </tr>\n",
       "    <tr>\n",
       "      <th>608</th>\n",
       "      <td>группа_4</td>\n",
       "      <td>97</td>\n",
       "      <td>-0.184953</td>\n",
       "      <td>NaN</td>\n",
       "      <td>37.813148</td>\n",
       "    </tr>\n",
       "    <tr>\n",
       "      <th>356</th>\n",
       "      <td>группа_4</td>\n",
       "      <td>83</td>\n",
       "      <td>0.067654</td>\n",
       "      <td>NaN</td>\n",
       "      <td>48.493265</td>\n",
       "    </tr>\n",
       "    <tr>\n",
       "      <th>640</th>\n",
       "      <td>группа_5</td>\n",
       "      <td>61</td>\n",
       "      <td>-2.018770</td>\n",
       "      <td>NaN</td>\n",
       "      <td>53.927016</td>\n",
       "    </tr>\n",
       "    <tr>\n",
       "      <th>285</th>\n",
       "      <td>группа_3</td>\n",
       "      <td>98</td>\n",
       "      <td>2.887286</td>\n",
       "      <td>NaN</td>\n",
       "      <td>48.328939</td>\n",
       "    </tr>\n",
       "    <tr>\n",
       "      <th>812</th>\n",
       "      <td>группа_4</td>\n",
       "      <td>69</td>\n",
       "      <td>-1.555637</td>\n",
       "      <td>NaN</td>\n",
       "      <td>49.766096</td>\n",
       "    </tr>\n",
       "    <tr>\n",
       "      <th>48</th>\n",
       "      <td>группа_4</td>\n",
       "      <td>67</td>\n",
       "      <td>-1.281717</td>\n",
       "      <td>NaN</td>\n",
       "      <td>34.747781</td>\n",
       "    </tr>\n",
       "    <tr>\n",
       "      <th>504</th>\n",
       "      <td>группа_5</td>\n",
       "      <td>56</td>\n",
       "      <td>1.331784</td>\n",
       "      <td>NaN</td>\n",
       "      <td>53.150943</td>\n",
       "    </tr>\n",
       "    <tr>\n",
       "      <th>361</th>\n",
       "      <td>группа_3</td>\n",
       "      <td>96</td>\n",
       "      <td>-0.790585</td>\n",
       "      <td>NaN</td>\n",
       "      <td>46.872966</td>\n",
       "    </tr>\n",
       "    <tr>\n",
       "      <th>549</th>\n",
       "      <td>группа_5</td>\n",
       "      <td>89</td>\n",
       "      <td>0.246028</td>\n",
       "      <td>NaN</td>\n",
       "      <td>43.040697</td>\n",
       "    </tr>\n",
       "    <tr>\n",
       "      <th>252</th>\n",
       "      <td>группа_2</td>\n",
       "      <td>70</td>\n",
       "      <td>1.997171</td>\n",
       "      <td>NaN</td>\n",
       "      <td>64.388899</td>\n",
       "    </tr>\n",
       "    <tr>\n",
       "      <th>63</th>\n",
       "      <td>группа_2</td>\n",
       "      <td>69</td>\n",
       "      <td>0.953199</td>\n",
       "      <td>NaN</td>\n",
       "      <td>53.010061</td>\n",
       "    </tr>\n",
       "  </tbody>\n",
       "</table>\n",
       "</div>"
      ],
      "text/plain": [
       "         groups  uniform   gauss_1  gauss_2    gauss_3\n",
       "index                                                 \n",
       "737    группа_5       87 -0.010541      NaN  50.624601\n",
       "219    группа_1       52  0.154961      NaN  50.096017\n",
       "684    группа_2       60 -0.016561      NaN  51.411878\n",
       "352    группа_2       74  0.355524      NaN  43.997174\n",
       "548    группа_4       76  0.715426      NaN  66.549967\n",
       "326    группа_3       90  0.987219      NaN  62.547125\n",
       "874    группа_3      100  1.079882      NaN  44.286319\n",
       "200    группа_3       73 -1.210269      NaN  40.997252\n",
       "253    группа_4       64 -0.755386      NaN  51.621738\n",
       "128    группа_2       68  1.555035      NaN  65.860999\n",
       "343    группа_4       84  0.075371      NaN  31.577312\n",
       "411    группа_2       58  0.989985      NaN  54.563815\n",
       "643    группа_5       72  0.293549      NaN  40.853600\n",
       "103    группа_2      100  0.337678      NaN  53.895349\n",
       "118    группа_3       95 -0.984044      NaN  50.936953\n",
       "793    группа_5       54  0.092742      NaN  56.039274\n",
       "761    группа_4       60  0.373209      NaN  36.985919\n",
       "608    группа_4       97 -0.184953      NaN  37.813148\n",
       "356    группа_4       83  0.067654      NaN  48.493265\n",
       "640    группа_5       61 -2.018770      NaN  53.927016\n",
       "285    группа_3       98  2.887286      NaN  48.328939\n",
       "812    группа_4       69 -1.555637      NaN  49.766096\n",
       "48     группа_4       67 -1.281717      NaN  34.747781\n",
       "504    группа_5       56  1.331784      NaN  53.150943\n",
       "361    группа_3       96 -0.790585      NaN  46.872966\n",
       "549    группа_5       89  0.246028      NaN  43.040697\n",
       "252    группа_2       70  1.997171      NaN  64.388899\n",
       "63     группа_2       69  0.953199      NaN  53.010061"
      ]
     },
     "execution_count": 26,
     "metadata": {},
     "output_type": "execute_result"
    }
   ],
   "source": [
    "data.loc[target_indexes]"
   ]
  },
  {
   "cell_type": "code",
   "execution_count": 27,
   "metadata": {
    "colab": {
     "base_uri": "https://localhost:8080/",
     "height": 81
    },
    "id": "8-PeNDLZqt9u",
    "outputId": "c0337f21-843c-44e8-a3cc-78bb60e63a3e"
   },
   "outputs": [
    {
     "data": {
      "text/html": [
       "<div>\n",
       "<style scoped>\n",
       "    .dataframe tbody tr th:only-of-type {\n",
       "        vertical-align: middle;\n",
       "    }\n",
       "\n",
       "    .dataframe tbody tr th {\n",
       "        vertical-align: top;\n",
       "    }\n",
       "\n",
       "    .dataframe thead th {\n",
       "        text-align: right;\n",
       "    }\n",
       "</style>\n",
       "<table border=\"1\" class=\"dataframe\">\n",
       "  <thead>\n",
       "    <tr style=\"text-align: right;\">\n",
       "      <th></th>\n",
       "      <th>groups</th>\n",
       "      <th>uniform</th>\n",
       "      <th>gauss_1</th>\n",
       "      <th>gauss_2</th>\n",
       "      <th>gauss_3</th>\n",
       "    </tr>\n",
       "    <tr>\n",
       "      <th>index</th>\n",
       "      <th></th>\n",
       "      <th></th>\n",
       "      <th></th>\n",
       "      <th></th>\n",
       "      <th></th>\n",
       "    </tr>\n",
       "  </thead>\n",
       "  <tbody>\n",
       "  </tbody>\n",
       "</table>\n",
       "</div>"
      ],
      "text/plain": [
       "Empty DataFrame\n",
       "Columns: [groups, uniform, gauss_1, gauss_2, gauss_3]\n",
       "Index: []"
      ]
     },
     "execution_count": 27,
     "metadata": {},
     "output_type": "execute_result"
    }
   ],
   "source": [
    "data.query('gauss_2 > 0 & gauss_2 % 1 > 0.95')"
   ]
  },
  {
   "cell_type": "markdown",
   "metadata": {
    "id": "gynDdodrPvuZ"
   },
   "source": [
    "## Задание 7"
   ]
  },
  {
   "cell_type": "markdown",
   "metadata": {
    "id": "kC-Pe7Qc_vYK"
   },
   "source": [
    "Теперь, для пропущенных значений gauss_1 и gauss_2:\n",
    "\n",
    "- Для gauss_2 None заменить на среднее по колонке;\n",
    "- Удалить строчки из таблицы, где gauss_1 == None."
   ]
  },
  {
   "cell_type": "code",
   "execution_count": 28,
   "metadata": {
    "id": "4gvynmZg_spQ"
   },
   "outputs": [],
   "source": [
    "data.loc[data['gauss_2'].isna(), 'gauss_2'] = data['gauss_2'].mean()"
   ]
  },
  {
   "cell_type": "code",
   "execution_count": 29,
   "metadata": {
    "colab": {
     "base_uri": "https://localhost:8080/"
    },
    "id": "7BH49GZ0BGL6",
    "outputId": "459da2c2-0ee7-4af2-9140-b40fe2aa6088"
   },
   "outputs": [
    {
     "data": {
      "text/plain": [
       "[121, 847, 484, 726, 605, 242, 968, 363]"
      ]
     },
     "execution_count": 29,
     "metadata": {},
     "output_type": "execute_result"
    }
   ],
   "source": [
    "list(data[data['gauss_1'].isna()].index)"
   ]
  },
  {
   "cell_type": "code",
   "execution_count": 30,
   "metadata": {
    "id": "wnHsyEzCAkyK"
   },
   "outputs": [],
   "source": [
    "rows_to_drop = list(data[data['gauss_1'].isna()].index)"
   ]
  },
  {
   "cell_type": "code",
   "execution_count": 31,
   "metadata": {
    "id": "OAtEvfRKAxNY"
   },
   "outputs": [],
   "source": [
    "data = data.drop(index=rows_to_drop)"
   ]
  },
  {
   "cell_type": "code",
   "execution_count": 32,
   "metadata": {
    "colab": {
     "base_uri": "https://localhost:8080/",
     "height": 455
    },
    "id": "xgbYlGPwBcgx",
    "outputId": "02af441f-bbe9-4bf1-9a90-16b33cb0a405"
   },
   "outputs": [
    {
     "data": {
      "text/html": [
       "<div>\n",
       "<style scoped>\n",
       "    .dataframe tbody tr th:only-of-type {\n",
       "        vertical-align: middle;\n",
       "    }\n",
       "\n",
       "    .dataframe tbody tr th {\n",
       "        vertical-align: top;\n",
       "    }\n",
       "\n",
       "    .dataframe thead th {\n",
       "        text-align: right;\n",
       "    }\n",
       "</style>\n",
       "<table border=\"1\" class=\"dataframe\">\n",
       "  <thead>\n",
       "    <tr style=\"text-align: right;\">\n",
       "      <th></th>\n",
       "      <th>groups</th>\n",
       "      <th>uniform</th>\n",
       "      <th>gauss_1</th>\n",
       "      <th>gauss_2</th>\n",
       "      <th>gauss_3</th>\n",
       "    </tr>\n",
       "    <tr>\n",
       "      <th>index</th>\n",
       "      <th></th>\n",
       "      <th></th>\n",
       "      <th></th>\n",
       "      <th></th>\n",
       "      <th></th>\n",
       "    </tr>\n",
       "  </thead>\n",
       "  <tbody>\n",
       "    <tr>\n",
       "      <th>476</th>\n",
       "      <td>группа_1</td>\n",
       "      <td>95</td>\n",
       "      <td>3.010291</td>\n",
       "      <td>2.156346</td>\n",
       "      <td>57.455851</td>\n",
       "    </tr>\n",
       "    <tr>\n",
       "      <th>315</th>\n",
       "      <td>группа_5</td>\n",
       "      <td>77</td>\n",
       "      <td>0.190277</td>\n",
       "      <td>-9.934550</td>\n",
       "      <td>62.694177</td>\n",
       "    </tr>\n",
       "    <tr>\n",
       "      <th>490</th>\n",
       "      <td>группа_4</td>\n",
       "      <td>96</td>\n",
       "      <td>-0.282161</td>\n",
       "      <td>9.211071</td>\n",
       "      <td>54.688895</td>\n",
       "    </tr>\n",
       "    <tr>\n",
       "      <th>748</th>\n",
       "      <td>группа_3</td>\n",
       "      <td>56</td>\n",
       "      <td>1.127080</td>\n",
       "      <td>-12.391793</td>\n",
       "      <td>30.192353</td>\n",
       "    </tr>\n",
       "    <tr>\n",
       "      <th>471</th>\n",
       "      <td>группа_5</td>\n",
       "      <td>52</td>\n",
       "      <td>-1.238270</td>\n",
       "      <td>10.938748</td>\n",
       "      <td>52.682052</td>\n",
       "    </tr>\n",
       "    <tr>\n",
       "      <th>...</th>\n",
       "      <td>...</td>\n",
       "      <td>...</td>\n",
       "      <td>...</td>\n",
       "      <td>...</td>\n",
       "      <td>...</td>\n",
       "    </tr>\n",
       "    <tr>\n",
       "      <th>260</th>\n",
       "      <td>группа_4</td>\n",
       "      <td>57</td>\n",
       "      <td>-1.484164</td>\n",
       "      <td>-5.911598</td>\n",
       "      <td>49.330196</td>\n",
       "    </tr>\n",
       "    <tr>\n",
       "      <th>146</th>\n",
       "      <td>группа_4</td>\n",
       "      <td>78</td>\n",
       "      <td>-0.379041</td>\n",
       "      <td>-3.132954</td>\n",
       "      <td>60.329900</td>\n",
       "    </tr>\n",
       "    <tr>\n",
       "      <th>972</th>\n",
       "      <td>группа_1</td>\n",
       "      <td>52</td>\n",
       "      <td>-0.857206</td>\n",
       "      <td>0.835715</td>\n",
       "      <td>51.926114</td>\n",
       "    </tr>\n",
       "    <tr>\n",
       "      <th>161</th>\n",
       "      <td>группа_1</td>\n",
       "      <td>62</td>\n",
       "      <td>-0.195475</td>\n",
       "      <td>3.496498</td>\n",
       "      <td>66.310250</td>\n",
       "    </tr>\n",
       "    <tr>\n",
       "      <th>587</th>\n",
       "      <td>группа_5</td>\n",
       "      <td>60</td>\n",
       "      <td>0.093496</td>\n",
       "      <td>-9.164475</td>\n",
       "      <td>60.897843</td>\n",
       "    </tr>\n",
       "  </tbody>\n",
       "</table>\n",
       "<p>992 rows × 5 columns</p>\n",
       "</div>"
      ],
      "text/plain": [
       "         groups  uniform   gauss_1    gauss_2    gauss_3\n",
       "index                                                   \n",
       "476    группа_1       95  3.010291   2.156346  57.455851\n",
       "315    группа_5       77  0.190277  -9.934550  62.694177\n",
       "490    группа_4       96 -0.282161   9.211071  54.688895\n",
       "748    группа_3       56  1.127080 -12.391793  30.192353\n",
       "471    группа_5       52 -1.238270  10.938748  52.682052\n",
       "...         ...      ...       ...        ...        ...\n",
       "260    группа_4       57 -1.484164  -5.911598  49.330196\n",
       "146    группа_4       78 -0.379041  -3.132954  60.329900\n",
       "972    группа_1       52 -0.857206   0.835715  51.926114\n",
       "161    группа_1       62 -0.195475   3.496498  66.310250\n",
       "587    группа_5       60  0.093496  -9.164475  60.897843\n",
       "\n",
       "[992 rows x 5 columns]"
      ]
     },
     "execution_count": 32,
     "metadata": {},
     "output_type": "execute_result"
    }
   ],
   "source": [
    "data"
   ]
  },
  {
   "cell_type": "markdown",
   "metadata": {
    "id": "O6aFbvRrQCry"
   },
   "source": [
    "## Задания теста"
   ]
  },
  {
   "cell_type": "markdown",
   "metadata": {
    "id": "fPSfqwkSEZab"
   },
   "source": [
    "**2 задание**\n",
    "\n",
    "Для колонки gauss_2 посчитать среднее и среднеквадратическое отклонение.\n",
    "\n",
    "Результаты необходимо написать в одну ячейку, разделенные пробелом, сначала среднее потом среднеквадратическое отклонение. Результаты округлить до сотых. Для дробной части использовать точку, как разделитель."
   ]
  },
  {
   "cell_type": "code",
   "execution_count": 33,
   "metadata": {
    "colab": {
     "base_uri": "https://localhost:8080/"
    },
    "id": "GBtXcGSOBdDY",
    "outputId": "d582b925-3d6d-416e-ddf8-80429d2790f4"
   },
   "outputs": [
    {
     "data": {
      "text/plain": [
       "-0.47"
      ]
     },
     "execution_count": 33,
     "metadata": {},
     "output_type": "execute_result"
    }
   ],
   "source": [
    "data['gauss_2'].mean().round(2)"
   ]
  },
  {
   "cell_type": "code",
   "execution_count": 34,
   "metadata": {
    "colab": {
     "base_uri": "https://localhost:8080/"
    },
    "id": "ttkiDIB3EL0A",
    "outputId": "4265ffdd-ed30-4de2-d733-30528a5e11f8"
   },
   "outputs": [
    {
     "data": {
      "text/plain": [
       "12.07"
      ]
     },
     "execution_count": 34,
     "metadata": {},
     "output_type": "execute_result"
    }
   ],
   "source": [
    "data['gauss_2'].std().round(2)"
   ]
  },
  {
   "cell_type": "markdown",
   "metadata": {
    "id": "A-SfpDuVGtWK"
   },
   "source": [
    "**3 задание**\n",
    "\n",
    "Какая группа встречается чаще всего и сколько раз?\n",
    "\n",
    "Сначала вывести название группы, через пробел указать целое число."
   ]
  },
  {
   "cell_type": "code",
   "execution_count": 35,
   "metadata": {
    "colab": {
     "base_uri": "https://localhost:8080/"
    },
    "id": "r4VtUObLERGA",
    "outputId": "cdc4a9af-86e0-4b62-d4ad-d73e8f53e5d9"
   },
   "outputs": [
    {
     "data": {
      "text/plain": [
       "группа_4    222\n",
       "группа_1    215\n",
       "группа_2    194\n",
       "группа_3    184\n",
       "группа_5    177\n",
       "Name: groups, dtype: int64"
      ]
     },
     "execution_count": 35,
     "metadata": {},
     "output_type": "execute_result"
    }
   ],
   "source": [
    "data['groups'].value_counts()"
   ]
  },
  {
   "cell_type": "markdown",
   "metadata": {
    "id": "iPUttPOjHRjz"
   },
   "source": [
    "**4 задание**\n",
    "\n",
    "Для группа_5 вывести самый \"ранний\" (наименьший) индекс."
   ]
  },
  {
   "cell_type": "code",
   "execution_count": 36,
   "metadata": {
    "colab": {
     "base_uri": "https://localhost:8080/",
     "height": 455
    },
    "id": "VzPGlqA8GzCA",
    "outputId": "fd221395-9622-4fc6-f3ec-ff808c642e71"
   },
   "outputs": [
    {
     "data": {
      "text/html": [
       "<div>\n",
       "<style scoped>\n",
       "    .dataframe tbody tr th:only-of-type {\n",
       "        vertical-align: middle;\n",
       "    }\n",
       "\n",
       "    .dataframe tbody tr th {\n",
       "        vertical-align: top;\n",
       "    }\n",
       "\n",
       "    .dataframe thead th {\n",
       "        text-align: right;\n",
       "    }\n",
       "</style>\n",
       "<table border=\"1\" class=\"dataframe\">\n",
       "  <thead>\n",
       "    <tr style=\"text-align: right;\">\n",
       "      <th></th>\n",
       "      <th>groups</th>\n",
       "      <th>uniform</th>\n",
       "      <th>gauss_1</th>\n",
       "      <th>gauss_2</th>\n",
       "      <th>gauss_3</th>\n",
       "    </tr>\n",
       "    <tr>\n",
       "      <th>index</th>\n",
       "      <th></th>\n",
       "      <th></th>\n",
       "      <th></th>\n",
       "      <th></th>\n",
       "      <th></th>\n",
       "    </tr>\n",
       "  </thead>\n",
       "  <tbody>\n",
       "    <tr>\n",
       "      <th>6</th>\n",
       "      <td>группа_5</td>\n",
       "      <td>64</td>\n",
       "      <td>0.121862</td>\n",
       "      <td>-15.706344</td>\n",
       "      <td>37.264697</td>\n",
       "    </tr>\n",
       "    <tr>\n",
       "      <th>7</th>\n",
       "      <td>группа_5</td>\n",
       "      <td>79</td>\n",
       "      <td>0.789998</td>\n",
       "      <td>-1.125028</td>\n",
       "      <td>56.556745</td>\n",
       "    </tr>\n",
       "    <tr>\n",
       "      <th>18</th>\n",
       "      <td>группа_5</td>\n",
       "      <td>80</td>\n",
       "      <td>0.390384</td>\n",
       "      <td>-3.111324</td>\n",
       "      <td>57.699977</td>\n",
       "    </tr>\n",
       "    <tr>\n",
       "      <th>21</th>\n",
       "      <td>группа_5</td>\n",
       "      <td>95</td>\n",
       "      <td>0.434685</td>\n",
       "      <td>6.883961</td>\n",
       "      <td>40.440062</td>\n",
       "    </tr>\n",
       "    <tr>\n",
       "      <th>22</th>\n",
       "      <td>группа_5</td>\n",
       "      <td>70</td>\n",
       "      <td>2.189199</td>\n",
       "      <td>-23.722245</td>\n",
       "      <td>47.054641</td>\n",
       "    </tr>\n",
       "    <tr>\n",
       "      <th>...</th>\n",
       "      <td>...</td>\n",
       "      <td>...</td>\n",
       "      <td>...</td>\n",
       "      <td>...</td>\n",
       "      <td>...</td>\n",
       "    </tr>\n",
       "    <tr>\n",
       "      <th>971</th>\n",
       "      <td>группа_5</td>\n",
       "      <td>80</td>\n",
       "      <td>-0.745116</td>\n",
       "      <td>0.449869</td>\n",
       "      <td>47.499498</td>\n",
       "    </tr>\n",
       "    <tr>\n",
       "      <th>978</th>\n",
       "      <td>группа_5</td>\n",
       "      <td>50</td>\n",
       "      <td>0.712819</td>\n",
       "      <td>3.428607</td>\n",
       "      <td>44.329374</td>\n",
       "    </tr>\n",
       "    <tr>\n",
       "      <th>989</th>\n",
       "      <td>группа_5</td>\n",
       "      <td>60</td>\n",
       "      <td>0.148515</td>\n",
       "      <td>2.928564</td>\n",
       "      <td>38.729513</td>\n",
       "    </tr>\n",
       "    <tr>\n",
       "      <th>997</th>\n",
       "      <td>группа_5</td>\n",
       "      <td>60</td>\n",
       "      <td>0.765711</td>\n",
       "      <td>-16.933376</td>\n",
       "      <td>33.617591</td>\n",
       "    </tr>\n",
       "    <tr>\n",
       "      <th>1000</th>\n",
       "      <td>группа_5</td>\n",
       "      <td>55</td>\n",
       "      <td>0.007151</td>\n",
       "      <td>5.734309</td>\n",
       "      <td>59.909507</td>\n",
       "    </tr>\n",
       "  </tbody>\n",
       "</table>\n",
       "<p>177 rows × 5 columns</p>\n",
       "</div>"
      ],
      "text/plain": [
       "         groups  uniform   gauss_1    gauss_2    gauss_3\n",
       "index                                                   \n",
       "6      группа_5       64  0.121862 -15.706344  37.264697\n",
       "7      группа_5       79  0.789998  -1.125028  56.556745\n",
       "18     группа_5       80  0.390384  -3.111324  57.699977\n",
       "21     группа_5       95  0.434685   6.883961  40.440062\n",
       "22     группа_5       70  2.189199 -23.722245  47.054641\n",
       "...         ...      ...       ...        ...        ...\n",
       "971    группа_5       80 -0.745116   0.449869  47.499498\n",
       "978    группа_5       50  0.712819   3.428607  44.329374\n",
       "989    группа_5       60  0.148515   2.928564  38.729513\n",
       "997    группа_5       60  0.765711 -16.933376  33.617591\n",
       "1000   группа_5       55  0.007151   5.734309  59.909507\n",
       "\n",
       "[177 rows x 5 columns]"
      ]
     },
     "execution_count": 36,
     "metadata": {},
     "output_type": "execute_result"
    }
   ],
   "source": [
    "data[data['groups'] == 'группа_5'].sort_values(by='index')"
   ]
  },
  {
   "cell_type": "markdown",
   "metadata": {
    "id": "2Gh0hO8xHmxK"
   },
   "source": [
    "**5 задание**\n",
    "\n",
    "Сколько записей из колонки uniform имеют значение не ниже значения 90% перцентиля?"
   ]
  },
  {
   "cell_type": "code",
   "execution_count": 37,
   "metadata": {
    "colab": {
     "base_uri": "https://localhost:8080/",
     "height": 455
    },
    "id": "J68dBPb9HUQ_",
    "outputId": "0e38f164-2c45-447e-f279-c9f4478bbad5"
   },
   "outputs": [
    {
     "data": {
      "text/html": [
       "<div>\n",
       "<style scoped>\n",
       "    .dataframe tbody tr th:only-of-type {\n",
       "        vertical-align: middle;\n",
       "    }\n",
       "\n",
       "    .dataframe tbody tr th {\n",
       "        vertical-align: top;\n",
       "    }\n",
       "\n",
       "    .dataframe thead th {\n",
       "        text-align: right;\n",
       "    }\n",
       "</style>\n",
       "<table border=\"1\" class=\"dataframe\">\n",
       "  <thead>\n",
       "    <tr style=\"text-align: right;\">\n",
       "      <th></th>\n",
       "      <th>groups</th>\n",
       "      <th>uniform</th>\n",
       "      <th>gauss_1</th>\n",
       "      <th>gauss_2</th>\n",
       "      <th>gauss_3</th>\n",
       "    </tr>\n",
       "    <tr>\n",
       "      <th>index</th>\n",
       "      <th></th>\n",
       "      <th></th>\n",
       "      <th></th>\n",
       "      <th></th>\n",
       "      <th></th>\n",
       "    </tr>\n",
       "  </thead>\n",
       "  <tbody>\n",
       "    <tr>\n",
       "      <th>476</th>\n",
       "      <td>группа_1</td>\n",
       "      <td>95</td>\n",
       "      <td>3.010291</td>\n",
       "      <td>2.156346</td>\n",
       "      <td>57.455851</td>\n",
       "    </tr>\n",
       "    <tr>\n",
       "      <th>315</th>\n",
       "      <td>группа_5</td>\n",
       "      <td>77</td>\n",
       "      <td>0.190277</td>\n",
       "      <td>-9.934550</td>\n",
       "      <td>62.694177</td>\n",
       "    </tr>\n",
       "    <tr>\n",
       "      <th>490</th>\n",
       "      <td>группа_4</td>\n",
       "      <td>96</td>\n",
       "      <td>-0.282161</td>\n",
       "      <td>9.211071</td>\n",
       "      <td>54.688895</td>\n",
       "    </tr>\n",
       "    <tr>\n",
       "      <th>748</th>\n",
       "      <td>группа_3</td>\n",
       "      <td>56</td>\n",
       "      <td>1.127080</td>\n",
       "      <td>-12.391793</td>\n",
       "      <td>30.192353</td>\n",
       "    </tr>\n",
       "    <tr>\n",
       "      <th>471</th>\n",
       "      <td>группа_5</td>\n",
       "      <td>52</td>\n",
       "      <td>-1.238270</td>\n",
       "      <td>10.938748</td>\n",
       "      <td>52.682052</td>\n",
       "    </tr>\n",
       "    <tr>\n",
       "      <th>...</th>\n",
       "      <td>...</td>\n",
       "      <td>...</td>\n",
       "      <td>...</td>\n",
       "      <td>...</td>\n",
       "      <td>...</td>\n",
       "    </tr>\n",
       "    <tr>\n",
       "      <th>260</th>\n",
       "      <td>группа_4</td>\n",
       "      <td>57</td>\n",
       "      <td>-1.484164</td>\n",
       "      <td>-5.911598</td>\n",
       "      <td>49.330196</td>\n",
       "    </tr>\n",
       "    <tr>\n",
       "      <th>146</th>\n",
       "      <td>группа_4</td>\n",
       "      <td>78</td>\n",
       "      <td>-0.379041</td>\n",
       "      <td>-3.132954</td>\n",
       "      <td>60.329900</td>\n",
       "    </tr>\n",
       "    <tr>\n",
       "      <th>972</th>\n",
       "      <td>группа_1</td>\n",
       "      <td>52</td>\n",
       "      <td>-0.857206</td>\n",
       "      <td>0.835715</td>\n",
       "      <td>51.926114</td>\n",
       "    </tr>\n",
       "    <tr>\n",
       "      <th>161</th>\n",
       "      <td>группа_1</td>\n",
       "      <td>62</td>\n",
       "      <td>-0.195475</td>\n",
       "      <td>3.496498</td>\n",
       "      <td>66.310250</td>\n",
       "    </tr>\n",
       "    <tr>\n",
       "      <th>587</th>\n",
       "      <td>группа_5</td>\n",
       "      <td>60</td>\n",
       "      <td>0.093496</td>\n",
       "      <td>-9.164475</td>\n",
       "      <td>60.897843</td>\n",
       "    </tr>\n",
       "  </tbody>\n",
       "</table>\n",
       "<p>992 rows × 5 columns</p>\n",
       "</div>"
      ],
      "text/plain": [
       "         groups  uniform   gauss_1    gauss_2    gauss_3\n",
       "index                                                   \n",
       "476    группа_1       95  3.010291   2.156346  57.455851\n",
       "315    группа_5       77  0.190277  -9.934550  62.694177\n",
       "490    группа_4       96 -0.282161   9.211071  54.688895\n",
       "748    группа_3       56  1.127080 -12.391793  30.192353\n",
       "471    группа_5       52 -1.238270  10.938748  52.682052\n",
       "...         ...      ...       ...        ...        ...\n",
       "260    группа_4       57 -1.484164  -5.911598  49.330196\n",
       "146    группа_4       78 -0.379041  -3.132954  60.329900\n",
       "972    группа_1       52 -0.857206   0.835715  51.926114\n",
       "161    группа_1       62 -0.195475   3.496498  66.310250\n",
       "587    группа_5       60  0.093496  -9.164475  60.897843\n",
       "\n",
       "[992 rows x 5 columns]"
      ]
     },
     "execution_count": 37,
     "metadata": {},
     "output_type": "execute_result"
    }
   ],
   "source": [
    "data"
   ]
  },
  {
   "cell_type": "code",
   "execution_count": 38,
   "metadata": {
    "colab": {
     "base_uri": "https://localhost:8080/"
    },
    "id": "CPVEKyvaHrwp",
    "outputId": "4d303c58-552c-48b0-e6da-9a0f891bab47"
   },
   "outputs": [
    {
     "data": {
      "text/plain": [
       "94.0"
      ]
     },
     "execution_count": 38,
     "metadata": {},
     "output_type": "execute_result"
    }
   ],
   "source": [
    "data['uniform'].quantile(0.9) # 90th percentile"
   ]
  },
  {
   "cell_type": "code",
   "execution_count": 39,
   "metadata": {
    "colab": {
     "base_uri": "https://localhost:8080/",
     "height": 455
    },
    "id": "6ubtBCdBIBzr",
    "outputId": "d64c4749-e6af-4446-e46f-0fe852be724d"
   },
   "outputs": [
    {
     "data": {
      "text/html": [
       "<div>\n",
       "<style scoped>\n",
       "    .dataframe tbody tr th:only-of-type {\n",
       "        vertical-align: middle;\n",
       "    }\n",
       "\n",
       "    .dataframe tbody tr th {\n",
       "        vertical-align: top;\n",
       "    }\n",
       "\n",
       "    .dataframe thead th {\n",
       "        text-align: right;\n",
       "    }\n",
       "</style>\n",
       "<table border=\"1\" class=\"dataframe\">\n",
       "  <thead>\n",
       "    <tr style=\"text-align: right;\">\n",
       "      <th></th>\n",
       "      <th>groups</th>\n",
       "      <th>uniform</th>\n",
       "      <th>gauss_1</th>\n",
       "      <th>gauss_2</th>\n",
       "      <th>gauss_3</th>\n",
       "    </tr>\n",
       "    <tr>\n",
       "      <th>index</th>\n",
       "      <th></th>\n",
       "      <th></th>\n",
       "      <th></th>\n",
       "      <th></th>\n",
       "      <th></th>\n",
       "    </tr>\n",
       "  </thead>\n",
       "  <tbody>\n",
       "    <tr>\n",
       "      <th>476</th>\n",
       "      <td>группа_1</td>\n",
       "      <td>95</td>\n",
       "      <td>3.010291</td>\n",
       "      <td>2.156346</td>\n",
       "      <td>57.455851</td>\n",
       "    </tr>\n",
       "    <tr>\n",
       "      <th>490</th>\n",
       "      <td>группа_4</td>\n",
       "      <td>96</td>\n",
       "      <td>-0.282161</td>\n",
       "      <td>9.211071</td>\n",
       "      <td>54.688895</td>\n",
       "    </tr>\n",
       "    <tr>\n",
       "      <th>392</th>\n",
       "      <td>группа_4</td>\n",
       "      <td>96</td>\n",
       "      <td>-0.022030</td>\n",
       "      <td>-15.327097</td>\n",
       "      <td>47.695130</td>\n",
       "    </tr>\n",
       "    <tr>\n",
       "      <th>655</th>\n",
       "      <td>группа_2</td>\n",
       "      <td>100</td>\n",
       "      <td>0.148248</td>\n",
       "      <td>9.559408</td>\n",
       "      <td>49.953550</td>\n",
       "    </tr>\n",
       "    <tr>\n",
       "      <th>984</th>\n",
       "      <td>группа_1</td>\n",
       "      <td>95</td>\n",
       "      <td>0.250564</td>\n",
       "      <td>26.720028</td>\n",
       "      <td>48.241485</td>\n",
       "    </tr>\n",
       "    <tr>\n",
       "      <th>...</th>\n",
       "      <td>...</td>\n",
       "      <td>...</td>\n",
       "      <td>...</td>\n",
       "      <td>...</td>\n",
       "      <td>...</td>\n",
       "    </tr>\n",
       "    <tr>\n",
       "      <th>212</th>\n",
       "      <td>группа_1</td>\n",
       "      <td>98</td>\n",
       "      <td>-1.347081</td>\n",
       "      <td>12.835375</td>\n",
       "      <td>58.932945</td>\n",
       "    </tr>\n",
       "    <tr>\n",
       "      <th>466</th>\n",
       "      <td>группа_4</td>\n",
       "      <td>99</td>\n",
       "      <td>0.028367</td>\n",
       "      <td>-13.990673</td>\n",
       "      <td>51.670629</td>\n",
       "    </tr>\n",
       "    <tr>\n",
       "      <th>281</th>\n",
       "      <td>группа_5</td>\n",
       "      <td>94</td>\n",
       "      <td>-0.909154</td>\n",
       "      <td>-11.396166</td>\n",
       "      <td>52.202034</td>\n",
       "    </tr>\n",
       "    <tr>\n",
       "      <th>286</th>\n",
       "      <td>группа_1</td>\n",
       "      <td>98</td>\n",
       "      <td>0.690832</td>\n",
       "      <td>-5.730558</td>\n",
       "      <td>65.254248</td>\n",
       "    </tr>\n",
       "    <tr>\n",
       "      <th>360</th>\n",
       "      <td>группа_2</td>\n",
       "      <td>95</td>\n",
       "      <td>-0.465871</td>\n",
       "      <td>12.704768</td>\n",
       "      <td>63.314157</td>\n",
       "    </tr>\n",
       "  </tbody>\n",
       "</table>\n",
       "<p>118 rows × 5 columns</p>\n",
       "</div>"
      ],
      "text/plain": [
       "         groups  uniform   gauss_1    gauss_2    gauss_3\n",
       "index                                                   \n",
       "476    группа_1       95  3.010291   2.156346  57.455851\n",
       "490    группа_4       96 -0.282161   9.211071  54.688895\n",
       "392    группа_4       96 -0.022030 -15.327097  47.695130\n",
       "655    группа_2      100  0.148248   9.559408  49.953550\n",
       "984    группа_1       95  0.250564  26.720028  48.241485\n",
       "...         ...      ...       ...        ...        ...\n",
       "212    группа_1       98 -1.347081  12.835375  58.932945\n",
       "466    группа_4       99  0.028367 -13.990673  51.670629\n",
       "281    группа_5       94 -0.909154 -11.396166  52.202034\n",
       "286    группа_1       98  0.690832  -5.730558  65.254248\n",
       "360    группа_2       95 -0.465871  12.704768  63.314157\n",
       "\n",
       "[118 rows x 5 columns]"
      ]
     },
     "execution_count": 39,
     "metadata": {},
     "output_type": "execute_result"
    }
   ],
   "source": [
    "data[data['uniform'] >= data['uniform'].quantile(0.9)]"
   ]
  },
  {
   "cell_type": "markdown",
   "metadata": {
    "id": "2D3WowegIbt7"
   },
   "source": [
    "**6 задание**\n",
    "\n",
    "У какой группы наибольшее значение медианы для gauss_3?\n",
    "\n",
    "Вывести это значение вместе с группой. Сначала группа, через пробел значение медианы (результат округлить до сотых , для дробной части использовать точку, как разделитель)"
   ]
  },
  {
   "cell_type": "code",
   "execution_count": 40,
   "metadata": {
    "colab": {
     "base_uri": "https://localhost:8080/"
    },
    "id": "Jk4mMZiuIcfg",
    "outputId": "3e5b0329-2a8e-4c98-911b-71ec887e3b75"
   },
   "outputs": [
    {
     "data": {
      "text/plain": [
       "groups\n",
       "группа_2    49.99\n",
       "группа_5    49.94\n",
       "группа_1    49.88\n",
       "группа_3    49.46\n",
       "группа_4    49.07\n",
       "Name: gauss_3, dtype: float64"
      ]
     },
     "execution_count": 40,
     "metadata": {},
     "output_type": "execute_result"
    }
   ],
   "source": [
    "data.groupby('groups')['gauss_3'].median().round(2).sort_values(ascending=False)"
   ]
  },
  {
   "cell_type": "markdown",
   "metadata": {
    "id": "E9555_BAJFg7"
   },
   "source": [
    "**7 задание**\n",
    "\n",
    "У какой группы наибольшее минимальное значение uniform?\n",
    "\n",
    "Если такого нет, выбрать группу наибольшим минимальным значением в gauss_1.\n",
    "\n",
    "Ответ дать в виде группы, через пробел указать значение в gauss_2 с аналогичной агрегацией (результат округлить до сотых, для дробной части использовать точку, как разделитель)"
   ]
  },
  {
   "cell_type": "code",
   "execution_count": 41,
   "metadata": {
    "colab": {
     "base_uri": "https://localhost:8080/"
    },
    "id": "EPnE7SRZIk3I",
    "outputId": "b5dc67c3-7bc0-46d2-ba8a-d32dd051bb90"
   },
   "outputs": [
    {
     "data": {
      "text/plain": [
       "groups\n",
       "группа_1    50\n",
       "группа_2    50\n",
       "группа_3    50\n",
       "группа_4    50\n",
       "группа_5    50\n",
       "Name: uniform, dtype: int64"
      ]
     },
     "execution_count": 41,
     "metadata": {},
     "output_type": "execute_result"
    }
   ],
   "source": [
    "data.groupby('groups')['uniform'].min()"
   ]
  },
  {
   "cell_type": "code",
   "execution_count": 42,
   "metadata": {
    "colab": {
     "base_uri": "https://localhost:8080/"
    },
    "id": "FuFcqMR-KHIl",
    "outputId": "25e07924-40f1-402c-a941-e2fe9d8f751f"
   },
   "outputs": [
    {
     "data": {
      "text/plain": [
       "groups\n",
       "группа_4   -3.933254\n",
       "группа_1   -3.628448\n",
       "группа_2   -2.692705\n",
       "группа_5   -2.639733\n",
       "группа_3   -2.606773\n",
       "Name: gauss_1, dtype: float64"
      ]
     },
     "execution_count": 42,
     "metadata": {},
     "output_type": "execute_result"
    }
   ],
   "source": [
    "data.groupby('groups')['gauss_1'].min().sort_values()"
   ]
  },
  {
   "cell_type": "code",
   "execution_count": 43,
   "metadata": {
    "colab": {
     "base_uri": "https://localhost:8080/"
    },
    "id": "V0T7I078KwBC",
    "outputId": "f501117b-c1c7-4821-e590-b58aec73a09f"
   },
   "outputs": [
    {
     "data": {
      "text/plain": [
       "groups\n",
       "группа_1   -22.11\n",
       "группа_2   -38.37\n",
       "группа_3   -36.19\n",
       "группа_4   -29.90\n",
       "группа_5   -40.39\n",
       "Name: gauss_2, dtype: float64"
      ]
     },
     "execution_count": 43,
     "metadata": {},
     "output_type": "execute_result"
    }
   ],
   "source": [
    "data.groupby('groups')['gauss_2'].min().round(2)"
   ]
  },
  {
   "cell_type": "code",
   "execution_count": 44,
   "metadata": {
    "colab": {
     "base_uri": "https://localhost:8080/",
     "height": 238
    },
    "id": "cOy5luzWJKwp",
    "outputId": "26115df1-0c30-4890-9e2b-a7376896fb0a"
   },
   "outputs": [
    {
     "data": {
      "text/html": [
       "<div>\n",
       "<style scoped>\n",
       "    .dataframe tbody tr th:only-of-type {\n",
       "        vertical-align: middle;\n",
       "    }\n",
       "\n",
       "    .dataframe tbody tr th {\n",
       "        vertical-align: top;\n",
       "    }\n",
       "\n",
       "    .dataframe thead th {\n",
       "        text-align: right;\n",
       "    }\n",
       "</style>\n",
       "<table border=\"1\" class=\"dataframe\">\n",
       "  <thead>\n",
       "    <tr style=\"text-align: right;\">\n",
       "      <th></th>\n",
       "      <th>gauss_1</th>\n",
       "      <th>uniform</th>\n",
       "    </tr>\n",
       "    <tr>\n",
       "      <th>groups</th>\n",
       "      <th></th>\n",
       "      <th></th>\n",
       "    </tr>\n",
       "  </thead>\n",
       "  <tbody>\n",
       "    <tr>\n",
       "      <th>группа_1</th>\n",
       "      <td>-3.628448</td>\n",
       "      <td>50</td>\n",
       "    </tr>\n",
       "    <tr>\n",
       "      <th>группа_2</th>\n",
       "      <td>-2.692705</td>\n",
       "      <td>50</td>\n",
       "    </tr>\n",
       "    <tr>\n",
       "      <th>группа_3</th>\n",
       "      <td>-2.606773</td>\n",
       "      <td>50</td>\n",
       "    </tr>\n",
       "    <tr>\n",
       "      <th>группа_4</th>\n",
       "      <td>-3.933254</td>\n",
       "      <td>50</td>\n",
       "    </tr>\n",
       "    <tr>\n",
       "      <th>группа_5</th>\n",
       "      <td>-2.639733</td>\n",
       "      <td>50</td>\n",
       "    </tr>\n",
       "  </tbody>\n",
       "</table>\n",
       "</div>"
      ],
      "text/plain": [
       "           gauss_1  uniform\n",
       "groups                     \n",
       "группа_1 -3.628448       50\n",
       "группа_2 -2.692705       50\n",
       "группа_3 -2.606773       50\n",
       "группа_4 -3.933254       50\n",
       "группа_5 -2.639733       50"
      ]
     },
     "execution_count": 44,
     "metadata": {},
     "output_type": "execute_result"
    }
   ],
   "source": [
    "pd.pivot_table(data, index='groups', values=['uniform', 'gauss_1'], aggfunc='min')"
   ]
  },
  {
   "cell_type": "markdown",
   "metadata": {
    "id": "CDuozjHrLbdU"
   },
   "source": [
    "**8 задание**\n",
    "\n",
    "Создать новую колонку gauss где значения будут получаться из (gauss_1 + gauss_2) / gauss_3\n",
    "\n",
    "Чему будет равен 70% перцентиль (результат округлить до сотых, для дробной части использовать точку, как разделитель)?"
   ]
  },
  {
   "cell_type": "code",
   "execution_count": 45,
   "metadata": {
    "id": "yGl0KLegKCIq"
   },
   "outputs": [],
   "source": [
    "data['gauss'] = (data['gauss_1'] + data['gauss_2']) / data['gauss_3']"
   ]
  },
  {
   "cell_type": "code",
   "execution_count": 46,
   "metadata": {
    "colab": {
     "base_uri": "https://localhost:8080/"
    },
    "id": "_VMqLxU_Ldmp",
    "outputId": "26298ddf-7ce8-4128-c8d6-237c7781461e"
   },
   "outputs": [
    {
     "data": {
      "text/plain": [
       "0.11"
      ]
     },
     "execution_count": 46,
     "metadata": {},
     "output_type": "execute_result"
    }
   ],
   "source": [
    "data['gauss'].quantile(0.7).round(2)"
   ]
  }
 ],
 "metadata": {
  "colab": {
   "provenance": [],
   "toc_visible": true
  },
  "kernelspec": {
   "display_name": "Python 3 (ipykernel)",
   "language": "python",
   "name": "python3"
  },
  "language_info": {
   "codemirror_mode": {
    "name": "ipython",
    "version": 3
   },
   "file_extension": ".py",
   "mimetype": "text/x-python",
   "name": "python",
   "nbconvert_exporter": "python",
   "pygments_lexer": "ipython3",
   "version": "3.9.4"
  }
 },
 "nbformat": 4,
 "nbformat_minor": 1
}
